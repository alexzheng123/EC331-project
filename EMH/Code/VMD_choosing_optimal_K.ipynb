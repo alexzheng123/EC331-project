{
  "cells": [
    {
      "cell_type": "markdown",
      "metadata": {
        "id": "Ufosa3rMBfpF"
      },
      "source": [
        "# Choosing the optimal number of BLIMFs for VMD"
      ]
    },
    {
      "cell_type": "code",
      "execution_count": null,
      "metadata": {
        "id": "-JBnpDkydZ1Z"
      },
      "outputs": [],
      "source": [
        "!pip install vmdpy --quiet"
      ]
    },
    {
      "cell_type": "code",
      "execution_count": null,
      "metadata": {
        "id": "UYRtIzZAdZ1a"
      },
      "outputs": [],
      "source": [
        "import numpy as np\n",
        "import pandas as pd\n",
        "import matplotlib.pyplot as plt\n",
        "\n",
        "from vmdpy import VMD\n",
        "\n",
        "# Set random seeds for reproducibility\n",
        "import random\n",
        "random.seed(42)\n",
        "np.random.seed(42)\n",
        "\n",
        "# Ignore warnings\n",
        "import warnings\n",
        "warnings.filterwarnings(\"ignore\")"
      ]
    },
    {
      "cell_type": "code",
      "execution_count": null,
      "metadata": {
        "id": "i0F0RI_hRqSA"
      },
      "outputs": [],
      "source": [
        "# Ensure plot qualities\n",
        "plt.rcParams['figure.figsize'] = (12,6)\n",
        "import matplotlib as mpl\n",
        "mpl.rcParams['figure.dpi'] = 300  # Adjust DPI for high-resolution figures"
      ]
    },
    {
      "cell_type": "code",
      "execution_count": null,
      "metadata": {
        "id": "t2bWLjlidZ1c"
      },
      "outputs": [],
      "source": [
        "# Global variables\n",
        "TRAIN_RATIO = 0.7\n",
        "VAL_RATIO = 0.2\n",
        "TEST_RATIO = 0.1\n",
        "\n",
        "WINDOW_SIZE = 60"
      ]
    },
    {
      "cell_type": "code",
      "execution_count": null,
      "metadata": {
        "colab": {
          "base_uri": "https://localhost:8080/"
        },
        "id": "nzMTe5lDdeiH",
        "outputId": "85c28eab-925b-49f3-d87d-18b47395b09a"
      },
      "outputs": [
        {
          "name": "stdout",
          "output_type": "stream",
          "text": [
            "Drive already mounted at /content/drive; to attempt to forcibly remount, call drive.mount(\"/content/drive\", force_remount=True).\n"
          ]
        }
      ],
      "source": [
        "# Mount Google Drive\n",
        "from google.colab import drive\n",
        "drive.mount('/content/drive')"
      ]
    },
    {
      "cell_type": "code",
      "execution_count": null,
      "metadata": {
        "id": "ul5q4lZ-dZ1d"
      },
      "outputs": [],
      "source": [
        "# Load the data\n",
        "data = pd.read_csv(\"/content/drive/My Drive/Colab Notebooks/EMH/data/Bitcoin_data_2024_w_TI_n_Macro.csv\",\n",
        "                   index_col=0, parse_dates=True)\n",
        "data = data[['Returns%']]\n",
        "\n",
        "# Ensure the data is univariate\n",
        "if data.shape[1] != 1:\n",
        "    raise ValueError(\"Data must be univariate with only 'Returns%' column.\")"
      ]
    },
    {
      "cell_type": "code",
      "execution_count": null,
      "metadata": {
        "colab": {
          "base_uri": "https://localhost:8080/",
          "height": 115
        },
        "id": "WDbgtgbLWvm-",
        "outputId": "b853a126-760e-4683-a72c-c452dfe3c1ce"
      },
      "outputs": [
        {
          "data": {
            "text/html": [
              "<div>\n",
              "<style scoped>\n",
              "    .dataframe tbody tr th:only-of-type {\n",
              "        vertical-align: middle;\n",
              "    }\n",
              "\n",
              "    .dataframe tbody tr th {\n",
              "        vertical-align: top;\n",
              "    }\n",
              "\n",
              "    .dataframe thead th {\n",
              "        text-align: right;\n",
              "    }\n",
              "</style>\n",
              "<table border=\"1\" class=\"dataframe\">\n",
              "  <thead>\n",
              "    <tr style=\"text-align: right;\">\n",
              "      <th></th>\n",
              "      <th>0</th>\n",
              "    </tr>\n",
              "  </thead>\n",
              "  <tbody>\n",
              "    <tr>\n",
              "      <th>Returns%</th>\n",
              "      <td>0</td>\n",
              "    </tr>\n",
              "  </tbody>\n",
              "</table>\n",
              "</div><br><label><b>dtype:</b> int64</label>"
            ],
            "text/plain": [
              "Returns%    0\n",
              "dtype: int64"
            ]
          },
          "execution_count": 16,
          "metadata": {},
          "output_type": "execute_result"
        }
      ],
      "source": [
        "data.isna().sum()"
      ]
    },
    {
      "cell_type": "code",
      "execution_count": null,
      "metadata": {
        "colab": {
          "base_uri": "https://localhost:8080/"
        },
        "id": "XdiFLYY7dZ1d",
        "outputId": "004af69c-4bcf-44e0-8ae5-f967081a349d"
      },
      "outputs": [
        {
          "name": "stdout",
          "output_type": "stream",
          "text": [
            "Train shape: (356589, 1)\n",
            "Validation shape: (101882, 1)\n",
            "Test shape: (50943, 1)\n"
          ]
        }
      ],
      "source": [
        "# Split the data\n",
        "n = len(data)\n",
        "train_end = int(n * TRAIN_RATIO)\n",
        "val_end = train_end + int(n * VAL_RATIO)\n",
        "\n",
        "train_data = data.iloc[:train_end]\n",
        "val_data   = data.iloc[train_end:val_end]\n",
        "test_data  = data.iloc[val_end:]\n",
        "\n",
        "print(\"Train shape:\", train_data.shape)\n",
        "print(\"Validation shape:\", val_data.shape)\n",
        "print(\"Test shape:\", test_data.shape)"
      ]
    },
    {
      "cell_type": "code",
      "execution_count": null,
      "metadata": {
        "colab": {
          "base_uri": "https://localhost:8080/"
        },
        "id": "k5jrBuM7Q7mC",
        "outputId": "a2307910-7e1b-4327-9ca2-8361492d3feb"
      },
      "outputs": [
        {
          "name": "stdout",
          "output_type": "stream",
          "text": [
            "K = 5, Residual Energy Ratio = 25.4756%\n",
            "K = 6, Residual Energy Ratio = 18.6696%\n",
            "K = 7, Residual Energy Ratio = 13.5532%\n",
            "K = 8, Residual Energy Ratio = 9.9140%\n"
          ]
        }
      ],
      "source": [
        "def compute_residual_energy_table(signal, min_K=2, max_K=20, alpha=2000, tau=0, DC=0, init=1, tol=1e-7):\n",
        "    original_energy = np.sum(signal ** 2)\n",
        "    results = []\n",
        "\n",
        "    for K in range(min_K, max_K + 1):\n",
        "        u, _, _ = VMD(signal, alpha, tau, K, DC, init, tol)\n",
        "        reconstructed = np.sum(u, axis=0)\n",
        "        residual = signal[:reconstructed.shape[0]] - reconstructed\n",
        "        residual_energy = np.sum(residual ** 2)\n",
        "        r_res = (residual_energy / original_energy) * 100  # as percentage\n",
        "        results.append({'K': K, 'Residual Energy Ratio (%)': round(r_res, 4)})\n",
        "        print(f\"K = {K}, Residual Energy Ratio = {r_res:.4f}%\")\n",
        "\n",
        "    return pd.DataFrame(results)\n",
        "\n",
        "# Run the function on your training data\n",
        "train_return = train_data['Returns%'].values\n",
        "residual_energy_table = compute_residual_energy_table(train_return, min_K=5, max_K=18)\n",
        "\n",
        "# Display table\n",
        "import IPython.display as display\n",
        "display.display(residual_energy_table)"
      ]
    }
  ],
  "metadata": {
    "accelerator": "GPU",
    "colab": {
      "gpuType": "L4",
      "provenance": []
    },
    "kernelspec": {
      "display_name": "Python 3",
      "name": "python3"
    },
    "language_info": {
      "codemirror_mode": {
        "name": "ipython",
        "version": 3
      },
      "file_extension": ".py",
      "mimetype": "text/x-python",
      "name": "python",
      "nbconvert_exporter": "python",
      "pygments_lexer": "ipython3",
      "version": "3.11.11"
    }
  },
  "nbformat": 4,
  "nbformat_minor": 0
}
