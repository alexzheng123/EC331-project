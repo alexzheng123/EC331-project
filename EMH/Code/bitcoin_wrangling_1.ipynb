{
 "cells": [
  {
   "cell_type": "markdown",
   "metadata": {},
   "source": [
    "# Bitcoin wrangling 1"
   ]
  },
  {
   "cell_type": "code",
   "execution_count": 1,
   "metadata": {},
   "outputs": [],
   "source": [
    "import pandas as pd\n",
    "import numpy as np \n",
    "import matplotlib.pyplot as plt"
   ]
  },
  {
   "cell_type": "code",
   "execution_count": 2,
   "metadata": {},
   "outputs": [],
   "source": [
    "def wrangle(path):\n",
    "    # Load data\n",
    "    df = pd.read_csv(path, skiprows=1)\n",
    "\n",
    "    # Convert first column to datetime \n",
    "    df['date'] = pd.to_datetime(df['unix'], unit = \"s\")\n",
    "    df = df.sort_values(by='date', ascending=True)\n",
    "\n",
    "    # Set index\n",
    "    df.set_index('date', inplace=True)\n",
    "\n",
    "    # Only select data from 2024\n",
    "    df = df[df.index.year == 2024]\n",
    "\n",
    "    # Drop columns\n",
    "    df = df.drop(columns=['unix', 'symbol'])\n",
    "\n",
    "    # Rename columns \n",
    "    df.rename(columns={\n",
    "    'open': 'Open',\n",
    "    'high': 'High',\n",
    "    'low': 'Low',\n",
    "    'close': 'Close',\n",
    "    'Volume BTC': 'VolumeBTC',\n",
    "    'Volume USD': 'VolumeUSD'\n",
    "    }, inplace=True)\n",
    "\n",
    "    return df"
   ]
  },
  {
   "cell_type": "code",
   "execution_count": 3,
   "metadata": {},
   "outputs": [],
   "source": [
    "df = wrangle(\"/Users/alexzheng/Developer/GitHub/EC331-project/EMH/data/Bitstamp_BTCUSD_2024_minute.csv\")"
   ]
  },
  {
   "cell_type": "code",
   "execution_count": 4,
   "metadata": {},
   "outputs": [
    {
     "data": {
      "text/plain": [
       "Open         509364\n",
       "High         509364\n",
       "Low          509364\n",
       "Close        509364\n",
       "VolumeBTC    509364\n",
       "VolumeUSD    509364\n",
       "dtype: int64"
      ]
     },
     "execution_count": 4,
     "metadata": {},
     "output_type": "execute_result"
    }
   ],
   "source": [
    "df.count()"
   ]
  },
  {
   "cell_type": "code",
   "execution_count": 5,
   "metadata": {},
   "outputs": [
    {
     "data": {
      "text/html": [
       "<div>\n",
       "<style scoped>\n",
       "    .dataframe tbody tr th:only-of-type {\n",
       "        vertical-align: middle;\n",
       "    }\n",
       "\n",
       "    .dataframe tbody tr th {\n",
       "        vertical-align: top;\n",
       "    }\n",
       "\n",
       "    .dataframe thead th {\n",
       "        text-align: right;\n",
       "    }\n",
       "</style>\n",
       "<table border=\"1\" class=\"dataframe\">\n",
       "  <thead>\n",
       "    <tr style=\"text-align: right;\">\n",
       "      <th></th>\n",
       "      <th>Open</th>\n",
       "      <th>High</th>\n",
       "      <th>Low</th>\n",
       "      <th>Close</th>\n",
       "      <th>VolumeBTC</th>\n",
       "      <th>VolumeUSD</th>\n",
       "    </tr>\n",
       "    <tr>\n",
       "      <th>date</th>\n",
       "      <th></th>\n",
       "      <th></th>\n",
       "      <th></th>\n",
       "      <th></th>\n",
       "      <th></th>\n",
       "      <th></th>\n",
       "    </tr>\n",
       "  </thead>\n",
       "  <tbody>\n",
       "    <tr>\n",
       "      <th>2024-01-01 00:00:00</th>\n",
       "      <td>42258.0</td>\n",
       "      <td>42268.0</td>\n",
       "      <td>42257</td>\n",
       "      <td>42268</td>\n",
       "      <td>1.049735</td>\n",
       "      <td>44370.180382</td>\n",
       "    </tr>\n",
       "    <tr>\n",
       "      <th>2024-01-01 00:01:00</th>\n",
       "      <td>42268.0</td>\n",
       "      <td>42283.0</td>\n",
       "      <td>42268</td>\n",
       "      <td>42283</td>\n",
       "      <td>2.291939</td>\n",
       "      <td>96910.057583</td>\n",
       "    </tr>\n",
       "    <tr>\n",
       "      <th>2024-01-01 00:02:00</th>\n",
       "      <td>42288.0</td>\n",
       "      <td>42298.0</td>\n",
       "      <td>42288</td>\n",
       "      <td>42298</td>\n",
       "      <td>1.569998</td>\n",
       "      <td>66407.775404</td>\n",
       "    </tr>\n",
       "    <tr>\n",
       "      <th>2024-01-01 00:03:00</th>\n",
       "      <td>42297.0</td>\n",
       "      <td>42353.0</td>\n",
       "      <td>42297</td>\n",
       "      <td>42353</td>\n",
       "      <td>4.883858</td>\n",
       "      <td>206846.034909</td>\n",
       "    </tr>\n",
       "    <tr>\n",
       "      <th>2024-01-01 00:04:00</th>\n",
       "      <td>42359.0</td>\n",
       "      <td>42375.0</td>\n",
       "      <td>42359</td>\n",
       "      <td>42375</td>\n",
       "      <td>5.742427</td>\n",
       "      <td>243335.353448</td>\n",
       "    </tr>\n",
       "    <tr>\n",
       "      <th>...</th>\n",
       "      <td>...</td>\n",
       "      <td>...</td>\n",
       "      <td>...</td>\n",
       "      <td>...</td>\n",
       "      <td>...</td>\n",
       "      <td>...</td>\n",
       "    </tr>\n",
       "    <tr>\n",
       "      <th>2024-12-31 23:55:00</th>\n",
       "      <td>93476.0</td>\n",
       "      <td>93476.0</td>\n",
       "      <td>93471</td>\n",
       "      <td>93471</td>\n",
       "      <td>0.179799</td>\n",
       "      <td>16805.981112</td>\n",
       "    </tr>\n",
       "    <tr>\n",
       "      <th>2024-12-31 23:56:00</th>\n",
       "      <td>93469.0</td>\n",
       "      <td>93469.0</td>\n",
       "      <td>93469</td>\n",
       "      <td>93469</td>\n",
       "      <td>0.021400</td>\n",
       "      <td>2000.236600</td>\n",
       "    </tr>\n",
       "    <tr>\n",
       "      <th>2024-12-31 23:57:00</th>\n",
       "      <td>93462.0</td>\n",
       "      <td>93462.0</td>\n",
       "      <td>93413</td>\n",
       "      <td>93427</td>\n",
       "      <td>0.034750</td>\n",
       "      <td>3246.554616</td>\n",
       "    </tr>\n",
       "    <tr>\n",
       "      <th>2024-12-31 23:58:00</th>\n",
       "      <td>93427.0</td>\n",
       "      <td>93427.0</td>\n",
       "      <td>93427</td>\n",
       "      <td>93427</td>\n",
       "      <td>0.000000</td>\n",
       "      <td>0.000000</td>\n",
       "    </tr>\n",
       "    <tr>\n",
       "      <th>2024-12-31 23:59:00</th>\n",
       "      <td>93381.0</td>\n",
       "      <td>93381.0</td>\n",
       "      <td>93381</td>\n",
       "      <td>93381</td>\n",
       "      <td>0.005321</td>\n",
       "      <td>496.869095</td>\n",
       "    </tr>\n",
       "  </tbody>\n",
       "</table>\n",
       "<p>509364 rows × 6 columns</p>\n",
       "</div>"
      ],
      "text/plain": [
       "                        Open     High    Low  Close  VolumeBTC      VolumeUSD\n",
       "date                                                                         \n",
       "2024-01-01 00:00:00  42258.0  42268.0  42257  42268   1.049735   44370.180382\n",
       "2024-01-01 00:01:00  42268.0  42283.0  42268  42283   2.291939   96910.057583\n",
       "2024-01-01 00:02:00  42288.0  42298.0  42288  42298   1.569998   66407.775404\n",
       "2024-01-01 00:03:00  42297.0  42353.0  42297  42353   4.883858  206846.034909\n",
       "2024-01-01 00:04:00  42359.0  42375.0  42359  42375   5.742427  243335.353448\n",
       "...                      ...      ...    ...    ...        ...            ...\n",
       "2024-12-31 23:55:00  93476.0  93476.0  93471  93471   0.179799   16805.981112\n",
       "2024-12-31 23:56:00  93469.0  93469.0  93469  93469   0.021400    2000.236600\n",
       "2024-12-31 23:57:00  93462.0  93462.0  93413  93427   0.034750    3246.554616\n",
       "2024-12-31 23:58:00  93427.0  93427.0  93427  93427   0.000000       0.000000\n",
       "2024-12-31 23:59:00  93381.0  93381.0  93381  93381   0.005321     496.869095\n",
       "\n",
       "[509364 rows x 6 columns]"
      ]
     },
     "execution_count": 5,
     "metadata": {},
     "output_type": "execute_result"
    }
   ],
   "source": [
    "df"
   ]
  },
  {
   "cell_type": "code",
   "execution_count": 6,
   "metadata": {},
   "outputs": [
    {
     "name": "stdout",
     "output_type": "stream",
     "text": [
      "<class 'pandas.core.frame.DataFrame'>\n",
      "DatetimeIndex: 509364 entries, 2024-01-01 00:00:00 to 2024-12-31 23:59:00\n",
      "Data columns (total 6 columns):\n",
      " #   Column     Non-Null Count   Dtype  \n",
      "---  ------     --------------   -----  \n",
      " 0   Open       509364 non-null  float64\n",
      " 1   High       509364 non-null  float64\n",
      " 2   Low        509364 non-null  int64  \n",
      " 3   Close      509364 non-null  int64  \n",
      " 4   VolumeBTC  509364 non-null  float64\n",
      " 5   VolumeUSD  509364 non-null  float64\n",
      "dtypes: float64(4), int64(2)\n",
      "memory usage: 27.2 MB\n",
      "None\n",
      "                Open           High            Low          Close  \\\n",
      "count  509364.000000  509364.000000  509364.000000  509364.000000   \n",
      "mean    65864.550468   65883.597982   65845.495210   65864.742420   \n",
      "std     14578.983088   14582.785358   14574.827791   14578.730682   \n",
      "min     38515.000000   38525.000000   38505.000000   38508.000000   \n",
      "25%     59058.000000   59076.000000   59040.000000   59059.000000   \n",
      "50%     64208.000000   64225.000000   64191.000000   64208.000000   \n",
      "75%     68984.000000   69000.000000   68966.000000   68985.000000   \n",
      "max    108293.000000  108364.000000  108204.000000  108276.000000   \n",
      "\n",
      "           VolumeBTC     VolumeUSD  \n",
      "count  509364.000000  5.093640e+05  \n",
      "mean        1.536952  1.028433e+05  \n",
      "std         5.084558  3.518282e+05  \n",
      "min         0.000000  0.000000e+00  \n",
      "25%         0.029596  1.838325e+03  \n",
      "50%         0.208046  1.338057e+04  \n",
      "75%         0.881548  5.704980e+04  \n",
      "max       339.941471  3.022984e+07  \n"
     ]
    }
   ],
   "source": [
    "print(df.info())\n",
    "print(df.describe())"
   ]
  },
  {
   "cell_type": "code",
   "execution_count": 7,
   "metadata": {},
   "outputs": [
    {
     "data": {
      "image/png": "[encoded data removed]",
      "text/plain": [
       "<Figure size 1200x600 with 1 Axes>"
      ]
     },
     "metadata": {},
     "output_type": "display_data"
    }
   ],
   "source": [
    "# Plot the 'close' prices\n",
    "df['Close'].plot(figsize=(12, 6))\n",
    "plt.xlabel('Date')\n",
    "plt.ylabel('Values (USD)');"
   ]
  },
  {
   "cell_type": "code",
   "execution_count": 8,
   "metadata": {},
   "outputs": [],
   "source": [
    "df.to_csv(\"/Users/alexzheng/Developer/GitHub/EC331-project/EMH/data/Bitcoin_data_2024.csv\")"
   ]
  }
 ],
 "metadata": {
  "kernelspec": {
   "display_name": "GRU_env",
   "language": "python",
   "name": "python3"
  },
  "language_info": {
   "codemirror_mode": {
    "name": "ipython",
    "version": 3
   },
   "file_extension": ".py",
   "mimetype": "text/x-python",
   "name": "python",
   "nbconvert_exporter": "python",
   "pygments_lexer": "ipython3",
   "version": "3.11.11"
  }
 },
 "nbformat": 4,
 "nbformat_minor": 2
}
